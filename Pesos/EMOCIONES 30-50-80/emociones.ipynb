{
  "cells": [
    {
      "cell_type": "code",
      "execution_count": null,
      "metadata": {
        "colab": {
          "base_uri": "https://localhost:8080/"
        },
        "id": "Hl92hzPPe5R8",
        "outputId": "da4d63b7-d19c-45d6-bd97-eaa9c45293a2"
      },
      "outputs": [
        {
          "output_type": "stream",
          "name": "stdout",
          "text": [
            "Cloning into 'yolov7'...\n",
            "remote: Enumerating objects: 1139, done.\u001b[K\n",
            "remote: Total 1139 (delta 0), reused 0 (delta 0), pack-reused 1139\u001b[K\n",
            "Receiving objects: 100% (1139/1139), 70.41 MiB | 24.38 MiB/s, done.\n",
            "Resolving deltas: 100% (488/488), done.\n"
          ]
        }
      ],
      "source": [
        "# Descargamos Repositorio de YoloV7 e instalamos los requerimientos\n",
        "!git clone https://github.com/WongKinYiu/yolov7\n",
        "%cd yolov7\n",
        "!pip install -r requirements.tx"
      ]
    },
    {
      "cell_type": "code",
      "execution_count": null,
      "metadata": {
        "id": "_cfD7jhAfiFt"
      },
      "outputs": [],
      "source": [
        "#Descargamos el dataset etiquetado para yoloV7, en este caso son imágenes de matriculaa\n",
        "\n",
        "!curl -L \"https://universe.roboflow.com/ds/ZhtjOt5SYv?key=2SHVQFQmIT\" > emociones.zip\n",
        "!unzip emociones.zip\n",
        "!rm emociones.zip\n",
        "\n",
        "# Traemos un fichero yaml modificado para que pueda funcionar en Google Colab (se modifica el directorio a donde se acceden los conjuntos de train y val)\n",
        "!curl -L \"https://raw.githubusercontent.com/alvarogarciapiz/gestos/main/data_emociones.yaml\" > data_emociones.yaml"
      ]
    },
    {
      "cell_type": "code",
      "execution_count": null,
      "metadata": {
        "id": "l6dFmw0Bgoo4"
      },
      "outputs": [],
      "source": [
        "# Nos descargamos unos pesos iniciales de YoloV7 para proceder a hacer transfer learning posteriormente\n",
        "%cd /content/yolov7\n",
        "!wget https://github.com/WongKinYiu/yolov7/releases/download/v0.1/yolov7_training.pt"
      ]
    },
    {
      "cell_type": "code",
      "execution_count": null,
      "metadata": {
        "id": "XNxoKpglgv8y"
      },
      "outputs": [],
      "source": [
        "#Solución error pytorch\n",
        "%cd /content/yolov7/utils\n",
        "!rm loss.py\n",
        "!wget https://raw.githubusercontent.com/sebastianfernandezgarcia/otsedom.github.io/main/VC/P7/loss.py"
      ]
    },
    {
      "cell_type": "code",
      "source": [
        "import time\n",
        "\n",
        "t = time.localtime()\n",
        "current_time = time.strftime(\"%H:%M:%S\", t)\n",
        "print(current_time)"
      ],
      "metadata": {
        "id": "uY1B2E_Vt_6p"
      },
      "execution_count": null,
      "outputs": []
    },
    {
      "cell_type": "code",
      "execution_count": null,
      "metadata": {
        "id": "loIezqNEgy4A"
      },
      "outputs": [],
      "source": [
        "%cd /content/yolov7\n",
        "!python train.py --batch 14 --epochs 30 --data /content/yolov7/data_emociones.yaml  --weights 'yolov7_training.pt' --device 0 "
      ]
    },
    {
      "cell_type": "code",
      "source": [
        "import time\n",
        "\n",
        "t = time.localtime()\n",
        "current_time = time.strftime(\"%H:%M:%S\", t)\n",
        "print(current_time)"
      ],
      "metadata": {
        "id": "4N6FgiA1uBf3"
      },
      "execution_count": null,
      "outputs": []
    },
    {
      "cell_type": "code",
      "execution_count": null,
      "metadata": {
        "id": "tPHSmEc-g5aC"
      },
      "outputs": [],
      "source": [
        "# Run evaluation\n",
        "!python detect.py --weights runs/train/exp/weights/best.pt --conf 0.1 --source /content/yolov7/test/images #Cambiar la carpeta exp si hay alguna posterior"
      ]
    },
    {
      "cell_type": "code",
      "execution_count": null,
      "metadata": {
        "id": "2xWrcl_bg8sQ"
      },
      "outputs": [],
      "source": [
        "#Veamos los resultados\n",
        "import glob\n",
        "from IPython.display import Image, display\n",
        "\n",
        "i = 0\n",
        "limit = 10000 # max images to print\n",
        "for imageName in glob.glob('/content/yolov7/runs/detect/exp/*.jpg'): #Aquí asumimos que los ficheros son JPG y que solo hemos hecho una detección, si hemos hecho más: cambiar exp por exp2,exp3 o la última\n",
        "    if i < limit:\n",
        "      display(Image(filename=imageName))\n",
        "      print(\"\\n\")\n",
        "    i = i + 1"
      ]
    }
  ],
  "metadata": {
    "accelerator": "GPU",
    "colab": {
      "provenance": []
    },
    "gpuClass": "standard",
    "kernelspec": {
      "display_name": "Python 3",
      "name": "python3"
    },
    "language_info": {
      "name": "python"
    }
  },
  "nbformat": 4,
  "nbformat_minor": 0
}